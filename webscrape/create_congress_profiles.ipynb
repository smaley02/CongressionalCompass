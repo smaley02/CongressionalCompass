{
 "cells": [
  {
   "cell_type": "code",
   "execution_count": null,
   "id": "1d257a98-e910-47b3-89ff-88087d4027c8",
   "metadata": {
    "tags": []
   },
   "outputs": [],
   "source": [
    "congresses = [118, 117, 119] # year 2000-2025\n",
    "bill_types = [\"hr\", \"s\", \"hjres\", \"sjres\"] # house of reps, senate, house joint res, senate joint res\""
   ]
  },
  {
   "cell_type": "code",
   "execution_count": null,
   "id": "c1f13dfd-d4ea-48f5-aeaf-d8d3604b7a04",
   "metadata": {
    "tags": []
   },
   "outputs": [],
   "source": [
    "import pandas as pd\n",
    "import ast\n",
    "import os\n",
    "\n",
    "candidates = pd.DataFrame(columns=[\"LastName\", \"Name\", \"State\", \"District\", \"Party\", \"Term\", \"ImageUrl\"])\n",
    "unique_candidates = set()\n",
    "i = 0\n",
    "\n",
    "for c in congresses:\n",
    "    for b_t in bill_types:\n",
    "        file = f\"{c}_{b_t}.csv\"\n",
    "        if os.path.exists(vote_table_name):\n",
    "            print(file)\n",
    "            df = pd.read_csv(\"members_df.csv\")\n",
    "            for index, row in df.iterrows():\n",
    "                if row[\"Congress\"] in congresses:\n",
    "                    name = row[\"Name\"]\n",
    "                    last_name = name.split(\", \")[0]\n",
    "                    state = row[\"State\"]\n",
    "                    unique_key = last_name + state\n",
    "                    if unique_key in unique_candidates:\n",
    "                        continue\n",
    "                    else:\n",
    "                        unique_candidates.add(unique_key)\n",
    "                        district = row[\"District\"]\n",
    "                        party = row[\"Party\"]\n",
    "                        term = row[\"Term\"]\n",
    "                        image = row[\"ImageUrl\"]\n",
    "                        candidates.loc[i] = {\"LastName\":last_name, \"Name\":name, \"State\":state, \"District\":district, \"Party\":party, \"Term\":term, \"ImageUrl\":image}\n",
    "                        i += 1\n",
    "\n",
    "candidates.to_csv(f\"candidates.csv\", index=False)"
   ]
  },
  {
   "cell_type": "code",
   "execution_count": null,
   "id": "0edfa6cc-a0f7-4e9a-9812-719f3626b85d",
   "metadata": {},
   "outputs": [],
   "source": [
    "# Iterate through the DataFrame\n",
    "for index, row in df.iterrows():\n",
    "    name = row['Name']\n",
    "    term = row['Term']\n",
    "    \n",
    "    # If the member already exists, append the term to their list\n",
    "    if name in members_dict:\n",
    "        members_dict[name].append(term)\n",
    "    else:\n",
    "        # Otherwise, create a new list with their term\n",
    "        members_dict[name] = [term]\n",
    "\n",
    "# Display the result\n",
    "for name, terms in members_dict.items():\n",
    "    print(f\"Member: {name}\")\n",
    "    for term in terms:\n",
    "        print(f\"  Term: {term}\")"
   ]
  },
  {
   "cell_type": "code",
   "execution_count": null,
   "id": "b9d5addc-fcd6-4dcc-bdaf-e232d1406141",
   "metadata": {
    "tags": []
   },
   "outputs": [],
   "source": [
    "VOTE_TABLE_PATH = \"vote_tables/\"\n",
    "VOTE_MAPPING_PATH = \"summaries_and_vote_mapping/\"\n",
    "\n",
    "# congresses = [i for i in range(115, 120)] # year 2000-2025\n",
    "congresses = [118, 117, 119] # year 2000-2025\n",
    "congresses.reverse()\n",
    "bill_types = [\"hr\", \"s\", \"hjres\", \"sjres\"] # house of reps, senate, house joint res, senate joint res\"\n",
    "# bill_types = [\"hr\"]"
   ]
  },
  {
   "cell_type": "code",
   "execution_count": null,
   "id": "8896ffe5-3f72-4f89-9473-b710485bc94a",
   "metadata": {
    "tags": []
   },
   "outputs": [],
   "source": [
    "import pandas as pd\n",
    "import ast\n",
    "import os\n",
    "\n",
    "candidates = pd.DataFrame(columns=[\"Name\", \"Processed_Name\", \"State\", \"Party\", \"Congresses\"])\n",
    "unique_candidates = {}\n",
    "i = 0\n",
    "\n",
    "for c in congresses:\n",
    "    for b_t in bill_types:\n",
    "        file = f\"{c}_{b_t}.csv\"\n",
    "        vote_table_name = VOTE_TABLE_PATH + file\n",
    "        if os.path.exists(vote_table_name):\n",
    "            print(file)\n",
    "            v_t_df = pd.read_csv(vote_table_name)\n",
    "            for index, row in v_t_df.iterrows():\n",
    "                name = row[\"Name\"]\n",
    "                state = row[\"State\"]\n",
    "                unique_key = name + state\n",
    "                if unique_key in unique_candidates:\n",
    "                    if c not in candidates.loc[unique_candidates[unique_key]][\"Congresses\"]:\n",
    "                        candidates.loc[unique_candidates[unique_key]][\"Congresses\"].append(c)\n",
    "                else:\n",
    "                    unique_candidates[unique_key] = i\n",
    "                    party = row[\"Party\"]\n",
    "                    processed_name = name.split(\" (\")[0]\n",
    "                    unique_key = name + \" (\" + state  \n",
    "                    candidates.loc[i] = {\"Name\":name, \"Processed_Name\":processed_name, \"State\":state, \"Party\":party, \"Congresses\":[c]}\n",
    "                    i += 1\n",
    "\n",
    "candidates.to_csv(f\"candidate_profiles/candidates.csv\", index=False)"
   ]
  },
  {
   "cell_type": "code",
   "execution_count": null,
   "id": "e283ab5e-2fdf-4141-8bc1-ed99a87d0619",
   "metadata": {
    "tags": []
   },
   "outputs": [],
   "source": [
    "import pandas as pd\n",
    "import ast\n",
    "import os\n",
    "\n",
    "candidates = pd.DataFrame(columns=[\"UniqueKey\", \"Name\", \"State\", \"Party\", \"Scores\"])\n",
    "\n",
    "for c in congresses:\n",
    "    for b_t in bill_types:\n",
    "        file = f\"{c}_{b_t}.csv\"\n",
    "        vote_table_name = VOTE_TABLE_PATH + file\n",
    "        vote_mapping_name = VOTE_MAPPING_PATH + file\n",
    "        if os.path.exists(vote_table_name) and os.path.exists(vote_mapping_name):\n",
    "            print(file)\n",
    "            v_t_df = pd.read_csv(vote_table_name)\n",
    "            v_m_df = pd.read_csv(vote_mapping_name)\n",
    "            for index, row in v_m_df.iterrows():\n",
    "                vote_mapping = ast.literal_eval(row[\"VoteMapping\"])\n",
    "                # print(vote_mapping)\n",
    "                if len(vote_mapping) == 4: # processed correctly\n",
    "                    filtered_df = v_t_df[(v_t_df['Bill'] == row[\"Bill\"]) & (v_t_df['DateTime'] == row['VotesDateTime'])]\n",
    "                    bill = row[\"Bill\"]\n",
    "                    data_time = row['VotesDateTime']\n",
    "                    unique_key = bill + \", \" + data_time\n",
    "                    for f_index, f_row in filtered_df.iterrows():\n",
    "                        name = f_row[\"Name\"]\n",
    "                        state = f_row[\"State\"]\n",
    "                        unique_key = name + \"_\" + state\n",
    "                        party = f_row[\"Party\"]\n",
    "                        score_dict = {}\n",
    "                        if f_row[\"Vote\"] == \"Y\":\n",
    "                            if \"Yea_Social_Scale\" in vote_mapping:\n",
    "                                score_dict[\"Yea_Social_Scale\"] = vote_mapping[\"Yea_Social_Scale\"]\n",
    "                            elif \"Yea_Social\" in vote_mapping:\n",
    "                                score_dict[\"Yea_Social_Scale\"] = vote_mapping[\"Yea_Social\"]\n",
    "                            if \"Yea_Economic_Scale\" in vote_mapping:\n",
    "                                score_dict[\"Yea_Economic_Scale\"] = vote_mapping[\"Yea_Economic_Scale\"]\n",
    "                            elif \"Yea_Economic\" in vote_mapping:\n",
    "                                score_dict[\"Yea_Economic_Scale\"] = vote_mapping[\"Yea_Economic\"]\n",
    "                        elif f_row[\"Vote\"] == \"N\":\n",
    "                            if \"Nay_Social_Scale\" in vote_mapping:\n",
    "                                score_dict[\"Nay_Social_Scale\"] = vote_mapping[\"Nay_Social_Scale\"]\n",
    "                            elif \"Nay_Social\" in vote_mapping:\n",
    "                                score_dict[\"Nay_Social_Scale\"] = vote_mapping[\"Nay_Social\"]\n",
    "                            if \"Nay_Economic_Scale\" in vote_mapping:\n",
    "                                score_dict[\"Nay_Economic_Scale\"] = vote_mapping[\"Nay_Economic_Scale\"]\n",
    "                            elif \"Nay_Economic\" in vote_mapping:\n",
    "                                score_dict[\"Yea_Economic_Scale\"] = vote_mapping[\"Nay_Economic\"]\n",
    "                            \n",
    "                        if ((candidates['Name'] == name) & (candidates['State'] == state)).any(): # already present\n",
    "                            candidates.loc[(candidates['Name'] == name) & (candidates['State'] == state), \"Scores\"][unique_key] = score_dict\n",
    "                        else:\n",
    "                            candidates.loc[len(candidates)] = {\"Name\":name, \"State\":state, \"Party\":party, \"Scores\":{unique_key:score_dict}}\n",
    "\n",
    "candidates.to_csv(f\"candidate_profiles/candidates.csv\", index=False)"
   ]
  },
  {
   "cell_type": "code",
   "execution_count": null,
   "id": "c8bc2fb8-ec9d-4467-be8c-abdefb4304fa",
   "metadata": {},
   "outputs": [],
   "source": []
  },
  {
   "cell_type": "code",
   "execution_count": null,
   "id": "fb8bbf5f-040e-479c-8c0d-43255e90f801",
   "metadata": {
    "tags": []
   },
   "outputs": [],
   "source": [
    "df = pd.read_csv(\"candidate_profiles/candidates.csv\")\n",
    "for index, row in df.iterrows():\n",
    "    print(row[\"Name\"], row[\"Scores\"])"
   ]
  },
  {
   "cell_type": "code",
   "execution_count": null,
   "id": "6f052aa7-82d6-470e-9f8d-e1f932d3a3a7",
   "metadata": {},
   "outputs": [],
   "source": []
  }
 ],
 "metadata": {
  "kernelspec": {
   "display_name": "webscrape",
   "language": "python",
   "name": "webscrape"
  },
  "language_info": {
   "codemirror_mode": {
    "name": "ipython",
    "version": 3
   },
   "file_extension": ".py",
   "mimetype": "text/x-python",
   "name": "python",
   "nbconvert_exporter": "python",
   "pygments_lexer": "ipython3",
   "version": "3.13.1"
  }
 },
 "nbformat": 4,
 "nbformat_minor": 5
}
