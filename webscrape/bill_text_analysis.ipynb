{
 "cells": [
  {
   "cell_type": "code",
   "execution_count": null,
   "id": "de7d1c7c-7975-4f0e-8845-08b8dfa8a2d2",
   "metadata": {
    "tags": []
   },
   "outputs": [],
   "source": [
    "import json\n",
    "import requests\n",
    "import os\n",
    "from dotenv import load_dotenv\n",
    "\n",
    "load_dotenv()\n",
    "# API_KEY = os.getenv(\"CONGRESS_API_KEY\")\n",
    "API_KEY = \"cW09gbNMaffaTf3nQczNUKl7XZt5lgHYL40uDDMn\" # cadens\n",
    "\n",
    "BASE_URL = \"https://api.congress.gov/v3\"\n",
    "endpoint = \"/bill\"\n",
    "congresses = [i for i in range(106, 120)] # year 2000-2025\n",
    "congresses.reverse()\n",
    "bill_types = [\"hr\", \"s\", \"hjres\", \"sjres\"] # house of reps, senate, house joint res, senate joint res\n",
    "params = {\"api_key\" : API_KEY,\n",
    "          \"limit\" : 1} # 250 is max\n",
    "\n",
    "COMPLETED = []\n",
    "\n",
    "congresses"
   ]
  },
  {
   "cell_type": "code",
   "execution_count": null,
   "id": "89f4587c-98a9-4743-8310-789aa6d80a14",
   "metadata": {
    "tags": []
   },
   "outputs": [],
   "source": [
    "public_law_count = 0\n",
    "unique_bills_with_text = 0\n",
    "total_texts = 0\n",
    "bill_count = 0\n",
    "bills_with_recorded_votes = 0\n",
    "bills_with_text_and_recorded_votes = 0\n",
    "bills_with_text_and_recorded_votes_that_became_public_law = 0\n",
    "\n",
    "for c in congresses:\n",
    "    if c != 118:\n",
    "        continue\n",
    "    if c in COMPLETED:\n",
    "        print(f\"{c} already done\")\n",
    "        continue\n",
    "    for b_t in bill_types:\n",
    "        if b_t != \"hr\":\n",
    "            continue\n",
    "        file_name = f\"compiled_json/{c}_{b_t}_compiled.json\"\n",
    "        if os.path.exists(file_name):\n",
    "            print(f\"{file_name} exists\")\n",
    "            with open(file_name, \"r\") as file:\n",
    "                data = json.load(file)\n",
    "                for bill in data:\n",
    "                    if \"actions\" in data[bill]:\n",
    "                        actions = data[bill][\"actions\"]\n",
    "                        if \"error\" not in actions: # actions have been taken\n",
    "                            if \"actions\" in actions:\n",
    "                                for i in range(len(actions[\"actions\"])):\n",
    "                                    a = actions[\"actions\"][i]\n",
    "                                    if \"recordedVotes\" in a:\n",
    "                                        print(bill)\n",
    "                                        bills_with_recorded_votes += 1\n",
    "                                        break\n",
    "                    bill_count += 1\n",
    "                    if \"error\" in data[bill]:\n",
    "                        continue\n",
    "                    if \"error\" in data[bill][\"text\"]:\n",
    "                        continue\n",
    "                    if \"textVersions\" not in data[bill][\"text\"]:\n",
    "                        # print(bill, \"no text version\")\n",
    "                        continue\n",
    "                    one_text = True\n",
    "                    for v in data[bill][\"text\"][\"textVersions\"]:\n",
    "                        print(v)\n",
    "                        if one_text:\n",
    "                            unique_bills_with_text += 1\n",
    "                            if \"actions\" in data[bill]:\n",
    "                                actions = data[bill][\"actions\"]\n",
    "                                if \"error\" not in actions: # actions have been taken\n",
    "                                    if \"actions\" in actions:\n",
    "                                        for i in range(len(actions[\"actions\"])):\n",
    "                                            a = actions[\"actions\"][i]\n",
    "                                            if \"recordedVotes\" in a:\n",
    "                                                bills_with_text_and_recorded_votes += 1\n",
    "                                                break\n",
    "                            one_text = False\n",
    "                        if \"type\" in v and v[\"type\"] == \"Public Law\":\n",
    "                            if \"actions\" in data[bill]:\n",
    "                                actions = data[bill][\"actions\"]\n",
    "                                if \"error\" not in actions: # actions have been taken\n",
    "                                    if \"actions\" in actions:\n",
    "                                        for i in range(len(actions[\"actions\"])):\n",
    "                                            a = actions[\"actions\"][i]\n",
    "                                            if \"recordedVotes\" in a:\n",
    "                                                bills_with_text_and_recorded_votes_that_became_public_law += 1\n",
    "                                                break\n",
    "                            public_law_count += 1\n",
    "                        if len(v[\"formats\"]) > 0:\n",
    "                            # print(bill, v[\"formats\"][0][\"url\"])\n",
    "                            total_texts += 1\n",
    "                        # else:\n",
    "                        #     print(bill, \"no associated text\")                "
   ]
  },
  {
   "cell_type": "code",
   "execution_count": null,
   "id": "cd1260db-10fd-4a5a-8522-aac73e1f765d",
   "metadata": {
    "tags": []
   },
   "outputs": [],
   "source": [
    "print(\"bills with text that became public law:\", public_law_count)\n",
    "print(\"number of bills that contain at least one text:\", unique_bills_with_text)\n",
    "print(\"total texts available across all bills:\", total_texts)\n",
    "print(\"total bills:\", bill_count)\n",
    "print(\"bills with recorded votes\", bills_with_recorded_votes)\n",
    "print(\"bills with text and recorded votes\", bills_with_text_and_recorded_votes)\n",
    "print(\"bills with text and recorded votes that became public law\", bills_with_text_and_recorded_votes_that_became_public_law)"
   ]
  },
  {
   "cell_type": "code",
   "execution_count": null,
   "id": "036475e7-1cb2-4c27-a65c-10f5cce4ef35",
   "metadata": {},
   "outputs": [],
   "source": []
  }
 ],
 "metadata": {
  "kernelspec": {
   "display_name": "Llama3",
   "language": "python",
   "name": "llama3"
  },
  "language_info": {
   "codemirror_mode": {
    "name": "ipython",
    "version": 3
   },
   "file_extension": ".py",
   "mimetype": "text/x-python",
   "name": "python",
   "nbconvert_exporter": "python",
   "pygments_lexer": "ipython3",
   "version": "3.10.14"
  }
 },
 "nbformat": 4,
 "nbformat_minor": 5
}
