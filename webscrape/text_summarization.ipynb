{
 "cells": [
  {
   "cell_type": "code",
   "execution_count": null,
   "id": "853fc933-f32e-4a67-aa14-d2d3e47900db",
   "metadata": {
    "tags": []
   },
   "outputs": [],
   "source": [
    "import re\n",
    "import ollama\n",
    "import ast\n",
    "\n",
    "client = ollama.Client()\n",
    "\n",
    "def query_deepseekr1(text, policy_area):\n",
    "\n",
    "    system_prompt = \"\"\"\n",
    "    You are a helpful and concise assistant that will help me answer questions about United States Congress bills.\"\n",
    "    \"\"\"\n",
    "    \n",
    "    user_prompt = \"\"\"\n",
    "    Please provide a short summary of this bill with the key points and topics it would influence.\n",
    "    \"\"\"\n",
    "    \n",
    "    user_prompt += \"\\nPOLICY AREA: \" + policy_area + \"\\n\" + text\n",
    "    \n",
    "    response = client.generate(\n",
    "        model=\"deepseek-r1\",\n",
    "        system=system_prompt,\n",
    "        prompt=user_prompt\n",
    "    )\n",
    "    \n",
    "    outside_think_text = re.sub(r\"<think>.*?</think>\", \"\", response.response, flags=re.DOTALL).strip()\n",
    "    \n",
    "    system_prompt = \"\"\"\n",
    "    You are a helpful and concise assistant that will help me answer questions about United States Congress bills. Use brief responses and ONLY return the information that is requested in JSON format. Do not provide additional information. Do not respond in markdown format. ONLY respond in valid JSON format.\"\n",
    "    \"\"\"\n",
    "    \n",
    "    user_prompt = \"\"\"\n",
    "    How would a Yea and Nay vote on this bill correspond on the social scale (left or right) and the economic scale (authoritarian or libertarian).\n",
    "    \n",
    "    Respond with a number from -5 to 5. \n",
    "    \n",
    "    For the social scale, -5 is all the way left, 5 is all the way right.\n",
    "    For the economic scale, -5 is all the way authoritarian, 5 is all the way libertarian.\n",
    "    \n",
    "    Return your response in a JSON in the following format:\n",
    "    {\n",
    "        \"Yea_Social_Scale\" : \"<ONLY respond with a number -5 to 5>\",\n",
    "        \"Yea_Economic_Scale\" : \"<ONLY respond with a number -5 to 5>\",\n",
    "        \"Nay_Social_Scale\" : \"<ONLY respond with a number -5 to 5>\",\n",
    "        \"Nay_Economic_Scale\" : \"<ONLY respond with a number -5 to 5>\",\n",
    "    }\n",
    "    \\n\n",
    "    \"\"\"\n",
    "    \n",
    "    user_prompt += outside_think_text\n",
    "    \n",
    "    response = client.generate(\n",
    "        model=\"deepseek-r1\",\n",
    "        system=system_prompt,\n",
    "        prompt=user_prompt\n",
    "    )\n",
    "    \n",
    "    \n",
    "    remove_think = re.sub(r\"<think>.*?</think>\", \"\", response.response, flags=re.DOTALL).strip()\n",
    "    print(remove_think)\n",
    "    json_text = re.findall(r\"\\{.*?\\}\", remove_think, re.DOTALL)[0] # should only be one\n",
    "    \n",
    "    no_whitespace_text = re.sub(r\"\\s+\", \"\", json_text)\n",
    "    json_obj = ast.literal_eval(no_whitespace_text)\n",
    "    \n",
    "    return json_obj"
   ]
  },
  {
   "cell_type": "code",
   "execution_count": null,
   "id": "7206c277-a0cd-45a8-97db-5fa9c98bddbd",
   "metadata": {
    "tags": []
   },
   "outputs": [],
   "source": [
    "VOTES_TO_TEXTS_DIR = \"votes_to_texts/\"\n",
    "\n",
    "congresses = [i for i in range(115, 120)] # year 2000-2025\n",
    "congresses.reverse()\n",
    "bill_types = [\"hr\", \"s\", \"hjres\", \"sjres\"] # house of reps, senate, house joint res, senate joint res\""
   ]
  },
  {
   "cell_type": "code",
   "execution_count": null,
   "id": "50f229f3-d270-4460-a534-b74df3d024a6",
   "metadata": {
    "tags": []
   },
   "outputs": [],
   "source": [
    "import pandas as pd\n",
    "import os\n",
    "\n",
    "for c in congresses:\n",
    "    for b_t in bill_types:\n",
    "        file = f\"{c}_{b_t}.csv\"\n",
    "        file_name = VOTES_TO_TEXTS_DIR + file\n",
    "        if os.path.exists(file_name):\n",
    "            print(f\"{file_name} exists\")\n",
    "            data = {}\n",
    "            df = pd.read_csv(file_name)\n",
    "            df['VoteMapping'] = [{} for _ in range(len(df))]\n",
    "            for index, row in df.iterrows():\n",
    "                try:\n",
    "                    json_obj = query_deepseekr1(row[\"Raw Text\"], row[\"Policy Area\"])\n",
    "                except:\n",
    "                    print(\"error at index\", index, file)\n",
    "                    continue\n",
    "                df.at[index, 'VoteMapping'] = json_obj\n",
    "                \n",
    "            df.drop(columns=[\"Raw Text\"])\n",
    "            df.to_csv(f\"summaries_and_vote_mapping/{c}_{b_t}.csv\", index=False)"
   ]
  },
  {
   "cell_type": "code",
   "execution_count": null,
   "id": "d4977f12-b1f3-4107-af3c-83d9752f6a31",
   "metadata": {},
   "outputs": [],
   "source": []
  }
 ],
 "metadata": {
  "kernelspec": {
   "display_name": "llama",
   "language": "python",
   "name": "llama"
  },
  "language_info": {
   "codemirror_mode": {
    "name": "ipython",
    "version": 3
   },
   "file_extension": ".py",
   "mimetype": "text/x-python",
   "name": "python",
   "nbconvert_exporter": "python",
   "pygments_lexer": "ipython3",
   "version": "3.12.8"
  }
 },
 "nbformat": 4,
 "nbformat_minor": 5
}
