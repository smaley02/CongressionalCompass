{
 "cells": [
  {
   "cell_type": "raw",
   "id": "3b697947-4307-4176-b3dd-eb3544a25624",
   "metadata": {},
   "source": [
    "Engrossed in House\n",
    "Introduced in Senate\n",
    "Passed in Senate\n",
    "Became Public Law"
   ]
  },
  {
   "cell_type": "code",
   "execution_count": null,
   "id": "4a2752ff-bef1-492f-8e5d-85b1a3be2062",
   "metadata": {
    "tags": []
   },
   "outputs": [],
   "source": [
    "BILL_TEXTS_DIR = \"bill_texts/\"\n",
    "VOTE_TABLES_DIR = \"vote_tables/\"\n",
    "\n",
    "congresses = [i for i in range(115, 120)] # year 2000-2025\n",
    "congresses.reverse()\n",
    "bill_types = [\"hr\", \"s\", \"hjres\", \"sjres\"] # house of reps, senate, house joint res, senate joint res\""
   ]
  },
  {
   "cell_type": "code",
   "execution_count": null,
   "id": "46f5edfd-3e8f-47eb-ac58-4632dcd0ae57",
   "metadata": {},
   "outputs": [],
   "source": [
    "import pandas as pd\n",
    "\n",
    "count = 0\n",
    "\n",
    "for c in congresses:\n",
    "    b_data = {}\n",
    "    for b_t in bill_types:\n",
    "        file = f\"{c}_{b_t}.csv\"\n",
    "        b_file_name = BILL_TEXTS_DIR + file\n",
    "        v_file_name = VOTE_TABLES_DIR + file\n",
    "        b_df = pd.read_csv(b_file_name)\n",
    "        v_df = pd.read_csv(v_file_name)\n",
    "        \n",
    "        v_df = v_df.drop_duplicates(subset=[\"Bill\", \"DateTime\"], keep=\"first\")\n",
    "        v_df = v_df.drop(columns=[\"Name\", \"Party\", \"Vote\", \"State\", \"Text\"])\n",
    "        v_df.rename(columns={\"DateTime\": \"VotesDateTime\"}, inplace=True)\n",
    "\n",
    "        matching_rows = pd.merge(b_df, v_df, on=[\"Bill\"], how=\"inner\")\n",
    "        \n",
    "        allowed_types = [\n",
    "            \"Engrossed in House\",\n",
    "            \"Introduced in Senate\",\n",
    "            \"Passed in Senate\",\n",
    "            \"Public Law\"\n",
    "        ]\n",
    "\n",
    "        df_filtered = matching_rows[matching_rows[\"Type\"].isin(allowed_types)]\n",
    "        \n",
    "        count += df_filtered.shape[0]\n",
    "        \n",
    "        df_filtered.to_csv(f\"votes_to_texts/{c}_{b_t}.csv\", index=False) \n",
    "        "
   ]
  },
  {
   "cell_type": "code",
   "execution_count": null,
   "id": "e226a9d2-1445-4362-bb1d-f3d82f1912c1",
   "metadata": {
    "tags": []
   },
   "outputs": [],
   "source": [
    "count"
   ]
  },
  {
   "cell_type": "code",
   "execution_count": null,
   "id": "9f771f4d-769d-46f5-98a3-9133df965467",
   "metadata": {},
   "outputs": [],
   "source": []
  }
 ],
 "metadata": {
  "kernelspec": {
   "display_name": "Python 3 (ipykernel)",
   "language": "python",
   "name": "python3"
  },
  "language_info": {
   "codemirror_mode": {
    "name": "ipython",
    "version": 3
   },
   "file_extension": ".py",
   "mimetype": "text/x-python",
   "name": "python",
   "nbconvert_exporter": "python",
   "pygments_lexer": "ipython3",
   "version": "3.10.12"
  }
 },
 "nbformat": 4,
 "nbformat_minor": 5
}
