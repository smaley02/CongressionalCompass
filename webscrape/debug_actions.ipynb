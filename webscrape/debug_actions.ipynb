{
 "cells": [
  {
   "cell_type": "code",
   "execution_count": null,
   "id": "3c16e28a-e12f-4422-8f0b-51be0f0b2e42",
   "metadata": {
    "tags": []
   },
   "outputs": [],
   "source": [
    "import json\n",
    "import requests\n",
    "import os\n",
    "from dotenv import load_dotenv\n",
    "\n",
    "load_dotenv()\n",
    "# API_KEY = os.getenv(\"CONGRESS_API_KEY\")\n",
    "API_KEY = \"cW09gbNMaffaTf3nQczNUKl7XZt5lgHYL40uDDMn\" # cadens\n",
    "\n",
    "BASE_URL = \"https://api.congress.gov/v3\"\n",
    "endpoint = \"/bill\"\n",
    "congresses = [i for i in range(106, 120)] # year 2000-2025\n",
    "# congresses = [118]\n",
    "congresses.reverse()\n",
    "bill_types = [\"s\", \"hjres\", \"sjres\", \"hr\"] # house of reps, senate, house joint res, senate joint res\n",
    "params = {\"api_key\" : API_KEY,\n",
    "          \"limit\" : 1} # 250 is max\n",
    "\n",
    "COMPLETED = []\n",
    "\n",
    "congresses"
   ]
  },
  {
   "cell_type": "code",
   "execution_count": null,
   "id": "af1aa674-8ab7-48db-955d-b36faccfb692",
   "metadata": {
    "tags": []
   },
   "outputs": [],
   "source": [
    "import json\n",
    "import time\n",
    "\n",
    "def check_for_rate_limit(r_json):\n",
    "    if \"error\" in r_json and \"code\" in r_json[\"error\"]:\n",
    "        if r_json[\"error\"][\"code\"] == \"OVER_RATE_LIMIT\":\n",
    "            print(\"OVER_RATE_LIMIT: sleeping for 1800\")\n",
    "            time.sleep(1800) # sleep 30 min\n",
    "            return True\n",
    "    return False\n",
    "\n",
    "# get counts for each bill type in a given congress\n",
    "for c in congresses:\n",
    "    if c in COMPLETED: # skip\n",
    "        continue\n",
    "    congress = f\"/{c}\"\n",
    "    \n",
    "    for b_t in bill_types:\n",
    "        params[\"limit\"] = 1 # min\n",
    "        bills = {}\n",
    "        bill_type = f\"/{b_t}\"\n",
    "        url = f\"{BASE_URL}{endpoint}{congress}{bill_type}\"\n",
    "        response = requests.get(url, params=params)\n",
    "        r_json = json.loads(response.text)\n",
    "        while check_for_rate_limit(r_json):\n",
    "            response = requests.get(url, params=params)\n",
    "            r_json = json.loads(response.text)\n",
    "        total_bills_in_bill_type = r_json[\"pagination\"][\"count\"]\n",
    "        \n",
    "        for i in range(1, total_bills_in_bill_type + 1):\n",
    "            try:\n",
    "                params[\"limit\"] = 250 # max\n",
    "                print(c, b_t, i, total_bills_in_bill_type)\n",
    "                key = f\"{c}_{b_t}_{i}\"\n",
    "                tmp_dict = {}\n",
    "\n",
    "                actions_url = f\"{BASE_URL}{endpoint}{congress}{bill_type}/{i}/actions\"\n",
    "                response = requests.get(actions_url, params=params)\n",
    "                r_json = json.loads(response.text)\n",
    "                while check_for_rate_limit(r_json):\n",
    "                    response = requests.get(url, params=params)\n",
    "                    r_json = json.loads(response.text)\n",
    "                tmp_dict[\"actions\"] = r_json\n",
    "            except Exception as e:\n",
    "                error_message = f\"ERROR: {e}\\nTYPE: {type(e)}\"\n",
    "                tmp_dict = {}\n",
    "                tmp_dict[\"error\"] = error_message\n",
    "                \n",
    "            bills[key] = tmp_dict\n",
    "            \n",
    "        with open(f\"{c}_{b_t}_actions.json\", \"w\") as f:\n",
    "            json.dump(bills, f)"
   ]
  },
  {
   "cell_type": "code",
   "execution_count": null,
   "id": "cc2c9a6c-24a5-4f80-88c2-9b15941a6bb4",
   "metadata": {},
   "outputs": [],
   "source": []
  }
 ],
 "metadata": {
  "kernelspec": {
   "display_name": "webscrape",
   "language": "python",
   "name": "webscrape"
  },
  "language_info": {
   "codemirror_mode": {
    "name": "ipython",
    "version": 3
   },
   "file_extension": ".py",
   "mimetype": "text/x-python",
   "name": "python",
   "nbconvert_exporter": "python",
   "pygments_lexer": "ipython3",
   "version": "3.13.1"
  }
 },
 "nbformat": 4,
 "nbformat_minor": 5
}
